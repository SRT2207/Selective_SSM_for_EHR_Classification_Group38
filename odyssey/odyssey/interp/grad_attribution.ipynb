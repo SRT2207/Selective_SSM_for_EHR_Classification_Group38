{
 "cells": [
  {
   "cell_type": "markdown",
   "metadata": {},
   "source": [
    "# Model Interpretability Notebook using Gradient-based Attribution Methods"
   ]
  },
  {
   "cell_type": "code",
   "execution_count": null,
   "metadata": {},
   "outputs": [],
   "source": [
    "import os\n",
    "\n",
    "import torch\n",
    "\n",
    "from odyssey.data.tokenizer import ConceptTokenizer\n",
    "from odyssey.interp.attribution import Attribution\n",
    "from odyssey.interp.utils import get_type_id_mapping\n",
    "from odyssey.models.model_utils import (\n",
    "    load_config,\n",
    "    load_finetune_data,\n",
    "    load_finetuned_model,\n",
    ")\n",
    "from odyssey.utils.utils import seed_everything"
   ]
  },
  {
   "cell_type": "markdown",
   "metadata": {},
   "source": [
    "### Arguments\n"
   ]
  },
  {
   "cell_type": "code",
   "execution_count": null,
   "metadata": {},
   "outputs": [],
   "source": [
    "MODEl_TYPE = \"cehr_bert\"\n",
    "MODEL_PATH = \"/ssd003/projects/aieng/public/odyssey/bert_checkpoints/best.ckpt\"\n",
    "TOKENIZER_PATH = None\n",
    "CONFIG_DIR = \"../models/configs\"\n",
    "DATA_DIR = \"/ssd003/projects/aieng/public/odyssey/new_data\"\n",
    "VOCAB_DIR = \"/ssd003/projects/aieng/public/odyssey/vocab\"\n",
    "CODES_DIR = \"/ssd003/projects/aieng/public/odyssey/new_data/codes_dict\"\n",
    "SEQUENCE_FILE = \"patient_sequences_512_mortality.parquet\"\n",
    "ID_FILE = \"dataset_2048_mortality.pkl\"\n",
    "VALID_SCHEME = \"few_shot\"\n",
    "LABEL_NAME = \"label_mortality_1month\"\n",
    "NUM_FINETUNE_PATIENTS = \"20000\"\n",
    "WITH_TASKS = False\n",
    "\n",
    "SEED = 42\n",
    "BATCH_SIZE = 32\n",
    "N_STEPS = 100\n",
    "MAX_LEN = 512"
   ]
  },
  {
   "cell_type": "markdown",
   "metadata": {},
   "source": [
    "### Config Setup\n"
   ]
  },
  {
   "cell_type": "code",
   "execution_count": null,
   "metadata": {},
   "outputs": [],
   "source": [
    "seed_everything(SEED)\n",
    "os.environ[\"CUDA_LAUNCH_BLOCKING\"] = \"1\"\n",
    "torch.cuda.empty_cache()\n",
    "torch.set_float32_matmul_precision(\"medium\")\n",
    "device = torch.device(\"cuda\" if torch.cuda.is_available() else \"cpu\")\n",
    "device"
   ]
  },
  {
   "cell_type": "code",
   "execution_count": null,
   "metadata": {},
   "outputs": [],
   "source": [
    "config = load_config(CONFIG_DIR, MODEl_TYPE)\n",
    "finetune_config = config[\"finetune\"]\n",
    "pre_model_config = config[\"model\"]\n",
    "fine_model_config = config[\"model_finetune\"]"
   ]
  },
  {
   "cell_type": "markdown",
   "metadata": {},
   "source": [
    "### Load Tokenizer"
   ]
  },
  {
   "cell_type": "code",
   "execution_count": null,
   "metadata": {},
   "outputs": [],
   "source": [
    "if TOKENIZER_PATH is not None:\n",
    "    tokenizer = ConceptTokenizer.load(TOKENIZER_PATH)\n",
    "else:\n",
    "    tokenizer = ConceptTokenizer(data_dir=VOCAB_DIR)\n",
    "    tokenizer.fit_on_vocab(with_tasks=WITH_TASKS)"
   ]
  },
  {
   "cell_type": "markdown",
   "metadata": {},
   "source": [
    "### Load Data"
   ]
  },
  {
   "cell_type": "code",
   "execution_count": null,
   "metadata": {},
   "outputs": [],
   "source": [
    "_, test_data = load_finetune_data(\n",
    "    DATA_DIR,\n",
    "    SEQUENCE_FILE,\n",
    "    ID_FILE,\n",
    "    VALID_SCHEME,\n",
    "    NUM_FINETUNE_PATIENTS,\n",
    ")\n",
    "test_data.rename(columns={LABEL_NAME: \"label\"}, inplace=True)"
   ]
  },
  {
   "cell_type": "code",
   "execution_count": null,
   "metadata": {},
   "outputs": [],
   "source": [
    "# Take a sample data point\n",
    "test_data_sample = test_data.head(20)\n",
    "test_data_sample"
   ]
  },
  {
   "cell_type": "markdown",
   "metadata": {},
   "source": [
    "### Load Model"
   ]
  },
  {
   "cell_type": "code",
   "execution_count": null,
   "metadata": {},
   "outputs": [],
   "source": [
    "model = load_finetuned_model(\n",
    "    MODEl_TYPE,\n",
    "    MODEL_PATH,\n",
    "    tokenizer=tokenizer,\n",
    "    pre_model_config=pre_model_config,\n",
    "    fine_model_config=fine_model_config,\n",
    "    device=device,\n",
    ")\n",
    "model"
   ]
  },
  {
   "cell_type": "markdown",
   "metadata": {},
   "source": [
    "### Get Attributions\n"
   ]
  },
  {
   "cell_type": "code",
   "execution_count": null,
   "metadata": {},
   "outputs": [],
   "source": [
    "gradient_attr = Attribution(\n",
    "    test_data_sample,\n",
    "    model,\n",
    "    tokenizer,\n",
    "    device,\n",
    "    type_id_mapping=get_type_id_mapping(),\n",
    "    max_len=MAX_LEN,\n",
    "    batch_size=BATCH_SIZE,\n",
    "    n_steps=N_STEPS,\n",
    "    codes_dir=CODES_DIR,\n",
    ")"
   ]
  },
  {
   "cell_type": "code",
   "execution_count": null,
   "metadata": {},
   "outputs": [],
   "source": [
    "# Average attribution for tokens\n",
    "token_avg = gradient_attr.average_tokens_attr()\n",
    "token_avg"
   ]
  },
  {
   "cell_type": "code",
   "execution_count": null,
   "metadata": {},
   "outputs": [],
   "source": [
    "# Average attribution for embeddings\n",
    "embedding_avg = gradient_attr.average_embeddings_attr()\n",
    "embedding_avg"
   ]
  },
  {
   "cell_type": "markdown",
   "metadata": {},
   "source": [
    "### Visualize Attributions"
   ]
  },
  {
   "cell_type": "code",
   "execution_count": null,
   "metadata": {},
   "outputs": [],
   "source": [
    "vis = gradient_attr.visualize_integrated_gradients(\n",
    "    max_rows=10,\n",
    "    task_name=\"post-discharge mortality\",\n",
    ")"
   ]
  },
  {
   "cell_type": "code",
   "execution_count": null,
   "metadata": {},
   "outputs": [],
   "source": [
    "vis = gradient_attr.visualize_expected_gradients(\n",
    "    max_rows=10,\n",
    "    num_baselines=10,\n",
    "    task_name=\"post-discharge mortality\",\n",
    ")"
   ]
  },
  {
   "cell_type": "code",
   "execution_count": null,
   "metadata": {},
   "outputs": [],
   "source": []
  }
 ],
 "metadata": {
  "kernelspec": {
   "display_name": "Python 3 (ipykernel)",
   "language": "python",
   "name": "python3"
  },
  "language_info": {
   "codemirror_mode": {
    "name": "ipython",
    "version": 3
   },
   "file_extension": ".py",
   "mimetype": "text/x-python",
   "name": "python",
   "nbconvert_exporter": "python",
   "pygments_lexer": "ipython3",
   "version": "3.10.9"
  }
 },
 "nbformat": 4,
 "nbformat_minor": 4
}
